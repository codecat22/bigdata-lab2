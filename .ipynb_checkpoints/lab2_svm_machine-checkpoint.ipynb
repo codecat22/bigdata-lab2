{
 "cells": [
  {
   "cell_type": "code",
   "execution_count": 1,
   "source": [
    "import pandas as pd\r\n",
    "import os\r\n",
    "import numpy as np\r\n",
    "import pandas as pd\r\n",
    "from sklearn.feature_extraction.text import TfidfTransformer, CountVectorizer"
   ],
   "outputs": [],
   "metadata": {}
  },
  {
   "cell_type": "code",
   "execution_count": 2,
   "source": [
    "# constants from lab1\r\n",
    "cwd = os.getcwd()\r\n",
    "\r\n",
    "train_data_path = cwd + '/prop_data/train.csv'\r\n",
    "test_data_path = cwd + '/prop_data/test.csv'\r\n",
    "evaluation_data_path = cwd + '/prop_data/evaluation.csv'"
   ],
   "outputs": [],
   "metadata": {}
  },
  {
   "cell_type": "code",
   "execution_count": 3,
   "source": [
    "# import data from lab1\r\n",
    "df_train  = pd.read_csv(train_data_path)\r\n",
    "df_test  = pd.read_csv(test_data_path)\r\n",
    "df_evaluation  = pd.read_csv(evaluation_data_path)"
   ],
   "outputs": [],
   "metadata": {}
  },
  {
   "cell_type": "code",
   "execution_count": 4,
   "source": [
    "print(df_train)"
   ],
   "outputs": [
    {
     "output_type": "stream",
     "name": "stdout",
     "text": [
      "      score                                               text\n",
      "0         0  overgeneralized, not helpful to anyone serious...\n",
      "1         1                           Great sound and service.\n",
      "2         1  love this book!!!: this book is a fast read ab...\n",
      "3         1  A hugely enjoyable screen version of Rona Jaff...\n",
      "4         0  What an uninteresting hodge-podge. It could ha...\n",
      "...     ...                                                ...\n",
      "7495      1  @USAirways YOU ARE AMAZING!!! FOLLOW ME BACK, ...\n",
      "7496      0  @JetBlue we're home, you guys recovered, now w...\n",
      "7497      1  pays for itself in 0 months: i was paying for ...\n",
      "7498      1  @AmericanAir continues to win: I've never miss...\n",
      "7499      1  Feels like an impressionistic film; if there i...\n",
      "\n",
      "[7500 rows x 2 columns]\n"
     ]
    }
   ],
   "metadata": {}
  },
  {
   "cell_type": "code",
   "execution_count": 5,
   "source": [
    " #from lab1\r\n",
    "import re\r\n",
    "import string\r\n",
    "\r\n",
    "# data preprocessing, same as lab 1\r\n",
    "def preprocess_text(text):\r\n",
    "    # replacing url-s with the word 'url'\r\n",
    "    text = re.sub('((www\\.[^\\s]+)|(https?://[^\\s]+))','URL', text)\r\n",
    "    # replacing usernames-s with the word 'user'\r\n",
    "    text = re.sub('@[^\\s]+','USER', text)\r\n",
    "    # converting text to lowercase\r\n",
    "    text = text.lower()\r\n",
    "    # remove multiple spaces\r\n",
    "    text = re.sub(' +',' ', text)\r\n",
    "    # remove punctuation marks\r\n",
    "    text = re.sub('[%s]' % re.escape(string.punctuation), ' ', text)\r\n",
    "    # replacing numbers with the word 'number'\r\n",
    "    text = re.sub(r'\\w*\\d+\\w*', 'number', text)\r\n",
    "    return text.strip()\r\n",
    "\r\n",
    "tr_data = [preprocess_text(t) for t in df_train.text]\r\n",
    "test_data = [preprocess_text(t) for t in df_test.text]\r\n",
    "evaluation_data = [preprocess_text(t) for t in df_evaluation.text]\r\n",
    "\r\n",
    "#Since the preprocessing of the texts create a list of texts, we create dataframes again to fit to the rest of the code\r\n",
    "\r\n",
    "\r\n",
    "tr_data = pd.DataFrame(tr_data, columns =['text'])\r\n",
    "test_data = pd.DataFrame(test_data, columns =['text'])\r\n",
    "evaluation_data = pd.DataFrame(evaluation_data, columns =['text'])\r\n",
    "\r\n",
    "\r\n",
    "#After tr_data, test_data and evaluation_data got turned into dataframes, we take the columns of these \r\n",
    "#and add to the original dataframes, meaning they also contain their scores\r\n",
    "df_train['text'] = tr_data['text'].values\r\n",
    "df_test['text'] = test_data['text'].values\r\n",
    "df_evaluation['text'] = evaluation_data['text'].values\r\n",
    "\r\n",
    "print(df_train)"
   ],
   "outputs": [
    {
     "output_type": "stream",
     "name": "stdout",
     "text": [
      "                                                   text\n",
      "0     overgeneralized  not helpful to anyone serious...\n",
      "1                               great sound and service\n",
      "2     love this book     this book is a fast read ab...\n",
      "3     a hugely enjoyable screen version of rona jaff...\n",
      "4     what an uninteresting hodge podge  it could ha...\n",
      "...                                                 ...\n",
      "7495  user you are amazing    follow me back  please...\n",
      "7496  user we re home  you guys recovered  now we ca...\n",
      "7497  pays for itself in number months  i was paying...\n",
      "7498  user continues to win  i ve never missed a fli...\n",
      "7499  feels like an impressionistic film  if there i...\n",
      "\n",
      "[7500 rows x 1 columns]\n",
      "      score                                               text\n",
      "0         0  overgeneralized  not helpful to anyone serious...\n",
      "1         1                            great sound and service\n",
      "2         1  love this book     this book is a fast read ab...\n",
      "3         1  a hugely enjoyable screen version of rona jaff...\n",
      "4         0  what an uninteresting hodge podge  it could ha...\n",
      "...     ...                                                ...\n",
      "7495      1  user you are amazing    follow me back  please...\n",
      "7496      0  user we re home  you guys recovered  now we ca...\n",
      "7497      1  pays for itself in number months  i was paying...\n",
      "7498      1  user continues to win  i ve never missed a fli...\n",
      "7499      1  feels like an impressionistic film  if there i...\n",
      "\n",
      "[7500 rows x 2 columns]\n"
     ]
    }
   ],
   "metadata": {}
  },
  {
   "cell_type": "code",
   "execution_count": 6,
   "source": [
    "#Tutorial from https://medium.com/@vasista/sentiment-analysis-using-svm-338d418e3ff1, with their standard values\r\n",
    "\r\n",
    "from sklearn.feature_extraction.text import TfidfVectorizer\r\n",
    "# Create feature vectors\r\n",
    "vectorizer = TfidfVectorizer(min_df = 5,\r\n",
    "                             max_df = 0.8,\r\n",
    "                             sublinear_tf = True,\r\n",
    "                             use_idf = True)\r\n",
    "\r\n",
    "train_vectors = vectorizer.fit_transform(df_train[\"text\"])\r\n",
    "test_vectors = vectorizer.transform(df_test[\"text\"])\r\n",
    "evaluation_vectors = vectorizer.transform(df_evaluation[\"text\"])"
   ],
   "outputs": [],
   "metadata": {}
  },
  {
   "cell_type": "code",
   "execution_count": 7,
   "source": [
    "#Tutorial from https://medium.com/@vasista/sentiment-analysis-using-svm-338d418e3ff1 also\r\n",
    "\r\n",
    "import time\r\n",
    "from sklearn import svm\r\n",
    "from sklearn.metrics import classification_report\r\n",
    "# Perform classification with SVM, kernel=linear\r\n",
    "classifier_linear = svm.SVC(kernel='linear')\r\n",
    "t0 = time.time()\r\n",
    "classifier_linear.fit(train_vectors, df_train['score'])\r\n",
    "t1 = time.time()\r\n",
    "prediction_linear = classifier_linear.predict(test_vectors)\r\n",
    "prediction_linear2 = classifier_linear.predict(evaluation_vectors)\r\n",
    "t2 = time.time()\r\n",
    "time_linear_train = t1-t0\r\n",
    "time_linear_predict = t2-t1\r\n",
    "# results\r\n",
    "\r\n",
    "\r\n",
    "print(\"Training time: %fs; Prediction time: %fs\" % (time_linear_train, time_linear_predict))\r\n",
    "report = classification_report(df_test['score'], prediction_linear, output_dict=True)\r\n",
    "report2 = classification_report(df_evaluation['score'], prediction_linear2, output_dict=True)\r\n",
    "print('positive: ', report['1'])\r\n",
    "print('negative: ', report['0'])\r\n",
    "\r\n",
    "print('positive: ', report2['1'])\r\n",
    "print('negative: ', report2['0'])\r\n"
   ],
   "outputs": [
    {
     "output_type": "stream",
     "name": "stdout",
     "text": [
      "Training time: 14.159907s; Prediction time: 13.584318s\n",
      "positive:  {'precision': 0.856909239574816, 'recall': 0.8397435897435898, 'f1-score': 0.848239579117766, 'support': 1248}\n",
      "negative:  {'precision': 0.8433829287392326, 'recall': 0.860223642172524, 'f1-score': 0.8517200474495848, 'support': 1252}\n",
      "positive:  {'precision': 0.858540562576437, 'recall': 0.8363780778395552, 'f1-score': 0.8473144236572118, 'support': 2518}\n",
      "negative:  {'precision': 0.8382410679230468, 'recall': 0.8601933924254633, 'f1-score': 0.8490753628952078, 'support': 2482}\n"
     ]
    }
   ],
   "metadata": {}
  }
 ],
 "metadata": {
  "kernelspec": {
   "display_name": "Python 3 (ipykernel)",
   "language": "python",
   "name": "python3"
  },
  "language_info": {
   "codemirror_mode": {
    "name": "ipython",
    "version": 3
   },
   "file_extension": ".py",
   "mimetype": "text/x-python",
   "name": "python",
   "nbconvert_exporter": "python",
   "pygments_lexer": "ipython3",
   "version": "3.9.7"
  }
 },
 "nbformat": 4,
 "nbformat_minor": 5
}